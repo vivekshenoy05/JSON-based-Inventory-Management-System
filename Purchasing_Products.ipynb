{
  "nbformat": 4,
  "nbformat_minor": 0,
  "metadata": {
    "colab": {
      "name": "Purchasing Products.ipynb",
      "provenance": [],
      "collapsed_sections": []
    },
    "kernelspec": {
      "name": "python3",
      "display_name": "Python 3"
    },
    "language_info": {
      "name": "python"
    }
  },
  "cells": [
    {
      "cell_type": "markdown",
      "metadata": {
        "id": "W23RXObbtUgV"
      },
      "source": [
        "**READ INVENTORY**"
      ]
    },
    {
      "cell_type": "code",
      "metadata": {
        "id": "tTaDoFBbk9YZ"
      },
      "source": [
        "import json\n",
        "\n",
        "fd = open(\"record.json\",'r')\n",
        "r = fd.read()\n",
        "fd.close()\n",
        "\n",
        "records = json.loads(r)"
      ],
      "execution_count": 3,
      "outputs": []
    },
    {
      "cell_type": "code",
      "metadata": {
        "colab": {
          "base_uri": "https://localhost:8080/"
        },
        "id": "Thsr-iFElMHM",
        "outputId": "1abf77aa-b711-4376-c595-12b5e95d1d8e"
      },
      "source": [
        "records"
      ],
      "execution_count": null,
      "outputs": [
        {
          "output_type": "execute_result",
          "data": {
            "text/plain": [
              "{'1001': {'company': 'Britania',\n",
              "  'date': 'June 2021',\n",
              "  'name': 'Choco Cake',\n",
              "  'pr': 100,\n",
              "  'qn': 34},\n",
              " '1002': {'company': 'Britania',\n",
              "  'date': 'July 2021',\n",
              "  'name': 'Milk Cake',\n",
              "  'pr': 800,\n",
              "  'qn': 100},\n",
              " '1003': {'company': 'Amul',\n",
              "  'date': 'July 2021',\n",
              "  'name': 'Drink',\n",
              "  'pr': 85,\n",
              "  'qn': 100},\n",
              " '1004': {'company': 'Candyman',\n",
              "  'date': 'June 2021',\n",
              "  'name': 'Candy',\n",
              "  'pr': 5,\n",
              "  'qn': 1000},\n",
              " '1005': {'company': 'Flair',\n",
              "  'date': 'June 2021',\n",
              "  'name': 'Pen',\n",
              "  'pr': 20,\n",
              "  'qn': 200},\n",
              " '1006': {'company': 'Apsara',\n",
              "  'date': 'June 2021',\n",
              "  'name': 'Pencil',\n",
              "  'pr': 10,\n",
              "  'qn': 100},\n",
              " '1007': {'company': 'Duracell',\n",
              "  'date': 'June 2021',\n",
              "  'name': 'Battery',\n",
              "  'pr': 40,\n",
              "  'qn': 6},\n",
              " '1008': {'company': 'oneplus',\n",
              "  'date': 'July 2021',\n",
              "  'name': 'Case',\n",
              "  'pr': 599,\n",
              "  'qn': 5},\n",
              " '1009': {'company': 'Britania',\n",
              "  'date': 'July 2021',\n",
              "  'name': 'Biscuit',\n",
              "  'pr': 70,\n",
              "  'qn': 100},\n",
              " '1010': {'company': 'Ritu nutz',\n",
              "  'date': 'Aug 2021',\n",
              "  'name': 'Pista',\n",
              "  'pr': 199,\n",
              "  'qn': 50},\n",
              " '1011': {'company': 'Lays',\n",
              "  'date': 'June 2021',\n",
              "  'name': 'Potato Chips',\n",
              "  'pr': 100,\n",
              "  'qn': 34},\n",
              " '1012': {'company': 'pepsico',\n",
              "  'date': 'July 2021',\n",
              "  'name': 'Kurkure',\n",
              "  'pr': 20,\n",
              "  'qn': 100},\n",
              " '1013': {'company': 'Cadbury',\n",
              "  'date': 'July 2021',\n",
              "  'name': 'Dairy Milk',\n",
              "  'pr': 85,\n",
              "  'qn': 100},\n",
              " '1014': {'company': 'Candyman',\n",
              "  'date': 'June 2021',\n",
              "  'name': 'Ladoo',\n",
              "  'pr': 50,\n",
              "  'qn': 1000},\n",
              " '1015': {'company': 'Flair',\n",
              "  'date': 'June 2021',\n",
              "  'name': 'File',\n",
              "  'pr': 20,\n",
              "  'qn': 200},\n",
              " '1016': {'company': 'Classmate',\n",
              "  'date': 'June 2021',\n",
              "  'name': 'Long Book',\n",
              "  'pr': 40,\n",
              "  'qn': 100},\n",
              " '1017': {'company': 'Durgas',\n",
              "  'date': 'June 2021',\n",
              "  'name': 'Plates',\n",
              "  'pr': 40,\n",
              "  'qn': 6},\n",
              " '1018': {'company': 'RajBallons',\n",
              "  'date': 'July 2021',\n",
              "  'name': 'baloon',\n",
              "  'pr': 5,\n",
              "  'qn': 500},\n",
              " '1019': {'company': 'Britania',\n",
              "  'date': 'July 2021',\n",
              "  'name': 'Pedigree',\n",
              "  'pr': 570,\n",
              "  'qn': 100},\n",
              " '1020': {'company': 'Ritu nutz',\n",
              "  'date': 'Aug 2021',\n",
              "  'name': 'Cashew',\n",
              "  'pr': 499,\n",
              "  'qn': 50},\n",
              " '1021': {'company': 'Himalayan',\n",
              "  'date': 'June 2021',\n",
              "  'name': 'Badam',\n",
              "  'pr': 270,\n",
              "  'qn': 34},\n",
              " '1022': {'company': 'Ponds',\n",
              "  'date': 'July 2021',\n",
              "  'name': 'Face Wash',\n",
              "  'pr': 80,\n",
              "  'qn': 100},\n",
              " '1023': {'company': 'Ponds',\n",
              "  'date': 'July 2021',\n",
              "  'name': 'Powder',\n",
              "  'pr': 85,\n",
              "  'qn': 100},\n",
              " '1024': {'company': 'Nevia',\n",
              "  'date': 'June 2021',\n",
              "  'name': 'Cream',\n",
              "  'pr': 45,\n",
              "  'qn': 100},\n",
              " '1025': {'company': 'Flair',\n",
              "  'date': 'June 2021',\n",
              "  'name': 'Pencil Box',\n",
              "  'pr': 200,\n",
              "  'qn': 200},\n",
              " '1026': {'company': 'Apsara',\n",
              "  'date': 'June 2021',\n",
              "  'name': 'Eraser',\n",
              "  'pr': 10,\n",
              "  'qn': 100},\n",
              " '1027': {'company': 'yonex',\n",
              "  'date': 'June 2021',\n",
              "  'name': 'Ball',\n",
              "  'pr': 40,\n",
              "  'qn': 69},\n",
              " '1028': {'company': 'MRF',\n",
              "  'date': 'July 2021',\n",
              "  'name': 'Bat',\n",
              "  'pr': 599,\n",
              "  'qn': 5},\n",
              " '1029': {'company': 'Fevicol',\n",
              "  'date': 'July 2021',\n",
              "  'name': 'Glue',\n",
              "  'pr': 30,\n",
              "  'qn': 100},\n",
              " '1030': {'company': 'Ritu nutz',\n",
              "  'date': 'Aug 2021',\n",
              "  'name': 'Dry Grapes',\n",
              "  'pr': 199,\n",
              "  'qn': 60}}"
            ]
          },
          "metadata": {},
          "execution_count": 39
        }
      ]
    },
    {
      "cell_type": "markdown",
      "metadata": {
        "id": "xvvjT9yHti5u"
      },
      "source": [
        "**PURCHASE**"
      ]
    },
    {
      "cell_type": "code",
      "metadata": {
        "colab": {
          "base_uri": "https://localhost:8080/"
        },
        "id": "rgnr2oLelkD1",
        "outputId": "dd9adc21-13db-4204-caad-b3c8b013bab6"
      },
      "source": [
        "ui_prod  = str(input(\"Enter the product_Id: \"))\n",
        "ui_quant = int(input(\"Enter the quantity: \"))\n",
        "\n",
        "\n",
        "print(\"Product: \", records[ui_prod]['name'])\n",
        "print(\"Manufacture Company: \", records[ui_prod]['company'])\n",
        "print(\"Date of Manufacture: \", records[ui_prod]['date'])\n",
        "print(\"Price: \", records[ui_prod]['pr'])\n",
        "print(\"Billing Amount: \", records[ui_prod]['pr'] * ui_quant)\n",
        "\n",
        "records[ui_prod]['qn'] = records[ui_prod]['qn'] - ui_quant"
      ],
      "execution_count": 7,
      "outputs": [
        {
          "output_type": "stream",
          "name": "stdout",
          "text": [
            "Enter the product_Id: 1001\n",
            "Enter the quantity: 1\n",
            "Product:  Choco Cake\n",
            "Manufacture Company:  Britania\n",
            "Date of Manufacture:  June 2021\n",
            "Price:  100\n",
            "Billing Amount:  100\n"
          ]
        }
      ]
    },
    {
      "cell_type": "markdown",
      "metadata": {
        "id": "dxh0hK0ZnjHE"
      },
      "source": [
        " **Update Inventory after purchase**"
      ]
    },
    {
      "cell_type": "code",
      "metadata": {
        "id": "A_7gwH0wneVB"
      },
      "source": [
        "js = json.dumps(records)\n",
        "\n",
        "fd = open(\"record.json\",'w')\n",
        "fd.write(js)\n",
        "fd.close()"
      ],
      "execution_count": 8,
      "outputs": []
    },
    {
      "cell_type": "markdown",
      "metadata": {
        "id": "gQAwPbR0n_J_"
      },
      "source": [
        "**SALES JSON**"
      ]
    },
    {
      "cell_type": "code",
      "metadata": {
        "colab": {
          "base_uri": "https://localhost:8080/"
        },
        "id": "ZXV-IbbhoA8W",
        "outputId": "417dd43a-2a03-4b0f-91e5-ec10cd34c97e"
      },
      "source": [
        "{'prod' : ui_prod, 'qn' : ui_quant, 'amount': records[ui_prod]['pr'] * ui_quant, 'company': records[ui_prod]['company'], 'Date': records[ui_prod]['date']}"
      ],
      "execution_count": 9,
      "outputs": [
        {
          "output_type": "execute_result",
          "data": {
            "text/plain": [
              "{'Date': 'June 2021',\n",
              " 'amount': 100,\n",
              " 'company': 'Britania',\n",
              " 'prod': '1001',\n",
              " 'qn': 1}"
            ]
          },
          "metadata": {},
          "execution_count": 9
        }
      ]
    },
    {
      "cell_type": "code",
      "metadata": {
        "id": "_Qwuj841qSMo"
      },
      "source": [
        "sales = {1 : {'prod' : ui_prod, 'qn' : ui_quant, 'amount': records[ui_prod]['pr'] * ui_quant},\n",
        "         2 : {'prod' : ui_prod, 'qn' : ui_quant, 'amount': records[ui_prod]['pr'] * ui_quant},\n",
        "         3 : {'prod' : ui_prod, 'qn' : ui_quant, 'amount': records[ui_prod]['pr'] * ui_quant}}"
      ],
      "execution_count": 10,
      "outputs": []
    },
    {
      "cell_type": "code",
      "metadata": {
        "id": "1PN_VvVwqAJW"
      },
      "source": [
        "sale = json.dumps(sales)"
      ],
      "execution_count": 11,
      "outputs": []
    },
    {
      "cell_type": "code",
      "metadata": {
        "colab": {
          "base_uri": "https://localhost:8080/",
          "height": 52
        },
        "id": "E9UBYPCyiTfI",
        "outputId": "9cfa350e-fa92-4bb5-d22d-1595c65b8405"
      },
      "source": [
        "sale"
      ],
      "execution_count": 12,
      "outputs": [
        {
          "output_type": "execute_result",
          "data": {
            "application/vnd.google.colaboratory.intrinsic+json": {
              "type": "string"
            },
            "text/plain": [
              "'{\"1\": {\"prod\": \"1001\", \"qn\": 1, \"amount\": 100}, \"2\": {\"prod\": \"1001\", \"qn\": 1, \"amount\": 100}, \"3\": {\"prod\": \"1001\", \"qn\": 1, \"amount\": 100}}'"
            ]
          },
          "metadata": {},
          "execution_count": 12
        }
      ]
    }
  ]
}